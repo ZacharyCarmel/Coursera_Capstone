{
 "cells": [
  {
   "cell_type": "markdown",
   "metadata": {},
   "source": [
    "# The Battle of Neighborhoods - Final Report"
   ]
  },
  {
   "cell_type": "markdown",
   "metadata": {},
   "source": [
    "## Introduction"
   ]
  },
  {
   "cell_type": "markdown",
   "metadata": {},
   "source": [
    "Using data, this project aims to give people a better understanding of the amenities available around the Downtown Toronto area. As Canada's largest city, Toronto, Ontario boasts a large number of restaurants, stores, markets, movie theatres, and other public attractions.\n",
    "\n",
    "By analysing large datasets, this project will allow the user to better understand Toronto's unique characteristics in order to be better informed of what is locally available for people living in the area or visiting."
   ]
  },
  {
   "cell_type": "markdown",
   "metadata": {},
   "source": [
    "## Data Description"
   ]
  },
  {
   "cell_type": "markdown",
   "metadata": {},
   "source": [
    "**Dataset**\n",
    "\n",
    "The dataset being used is scraped from the following Wikipedia page, with a focus on Downtown Toronto: https://en.wikipedia.org/wiki/List_of_postal_codes_of_Canada:_M"
   ]
  },
  {
   "cell_type": "markdown",
   "metadata": {},
   "source": [
    "**Foursquare API**\n",
    "\n",
    "In order to better assess downtown Toronto's characteristics, the Capstone project will use the Foursquare API to gather locational data with a distinct focus on venues of interest like restaurants, theatres, parks, shops, and other points of interest. In order to better situate these venues, the project will also provide latitude and longitude coordinates.\n",
    "\n",
    "Using the API, I was able to gather information on neighborhoods, neighborhood coordinates, venue types, venue coordinates, and venue names."
   ]
  },
  {
   "cell_type": "markdown",
   "metadata": {},
   "source": [
    "## Methodology"
   ]
  },
  {
   "cell_type": "markdown",
   "metadata": {},
   "source": [
    "In order to better understand the overall composition of downtown Toronto, I decided to cluster them into their various neighborhoods, where I used a k-means clustering algorithm."
   ]
  },
  {
   "cell_type": "markdown",
   "metadata": {},
   "source": [
    "Through my analysis I was able to better understand what were the most common venues for each neighborhood and hence in Downtown Toronto as a whole.\n",
    "\n",
    "Folium was used to provide visual support to the clusters."
   ]
  },
  {
   "cell_type": "markdown",
   "metadata": {},
   "source": [
    "**Libraries used**\n",
    "\n",
    "Pandas, Matplotlib, Folium, Geocoder, BeautifulSoup, XML, Scikit Learn"
   ]
  },
  {
   "cell_type": "markdown",
   "metadata": {},
   "source": [
    "## Results"
   ]
  },
  {
   "cell_type": "markdown",
   "metadata": {},
   "source": [
    "Through my analysis, I was able to determine how common each type of venue was for each of Downtown Toronto's neighborhoods, finding that the most common types across all neighborhoods was Bakery, Restaurant, Japanese Restaurant, Bookstore, and Cafe.\n",
    "\n",
    "These results clearly show how much Downtown Toronto is a hub in Canada for culinary adventure, with numerous eateries of all types located in the heart of Toronto."
   ]
  },
  {
   "cell_type": "markdown",
   "metadata": {},
   "source": [
    "# Discussion"
   ]
  },
  {
   "cell_type": "markdown",
   "metadata": {},
   "source": [
    "In sorting the neighborhoods by popularity of venue types, it became apparent that certain neighborhoods had a concentration of venue types that could better fit certain needs or interests. For instance, the *CN Tower, King and Spadina, Railway Lands, Harbourfront West, Bathurst Quay, South Niagara, Island airport* area had a high frequency of coffee shops, airport lounges, airport service, and airport terminals. For frequent travelers, this would obviously be the most ideal location to stay in. On the other hand, the Rosedale neighborhood was instead dominated by parks, playgrounds, and walking trails which would be a great location for people who like spending time outside in nature.\n",
    "\n",
    "Finally, this analysis made it very clear that Toronto is a very cosmopolitan city, with most neighborhoods in Toronto boasting a high frequency of japanese, mexican, and vietnamese restaurants."
   ]
  },
  {
   "cell_type": "markdown",
   "metadata": {},
   "source": [
    "## Conclusion"
   ]
  },
  {
   "cell_type": "markdown",
   "metadata": {},
   "source": [
    "Using a KMeans cluster algorithm on a dataset, I was about to analyse the composition of the Downtown Toronto neighborhood. This allowed me to better understand each neighborhood within the district and be able to use big data to create clear narratives and macro-descriptions."
   ]
  }
 ],
 "metadata": {
  "kernelspec": {
   "display_name": "Python 3",
   "language": "python",
   "name": "python3"
  },
  "language_info": {
   "codemirror_mode": {
    "name": "ipython",
    "version": 3
   },
   "file_extension": ".py",
   "mimetype": "text/x-python",
   "name": "python",
   "nbconvert_exporter": "python",
   "pygments_lexer": "ipython3",
   "version": "3.7.3"
  }
 },
 "nbformat": 4,
 "nbformat_minor": 2
}
